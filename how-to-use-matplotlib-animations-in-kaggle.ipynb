{
 "cells": [
  {
   "cell_type": "markdown",
   "metadata": {},
   "source": [
    "kaggle is not a personal computer environment, so it is often inconvenient for libraries or settings.\n",
    "\n",
    "I was uncomfortable with matplotlib animation, and I'll show you how to do it with the animation visualization you want."
   ]
  },
  {
   "cell_type": "code",
   "execution_count": 1,
   "metadata": {
    "_cell_guid": "b1076dfc-b9ad-4769-8c92-a6c4dae69d19",
    "_uuid": "8f2839f25d086af736a60e9eeb907d3b93b6e0e5"
   },
   "outputs": [],
   "source": [
    "# default library for data handling\n",
    "import numpy as np \n",
    "import pandas as pd \n",
    "\n",
    "# matplotlib series\n",
    "import matplotlib as mpl\n",
    "import matplotlib.pyplot as plt\n",
    "from matplotlib import animation\n",
    "\n",
    "# HTML \n",
    "from IPython.display import HTML"
   ]
  },
  {
   "cell_type": "markdown",
   "metadata": {},
   "source": [
    "Most of the examples convert to `mp4`. \n",
    "\n",
    "However, if you run the example code in the Kaggle notebook, you will get an error.\n",
    "\n",
    "The reason for this is as follows :"
   ]
  },
  {
   "cell_type": "code",
   "execution_count": 2,
   "metadata": {},
   "outputs": [
    {
     "name": "stdout",
     "output_type": "stream",
     "text": [
      "['pillow', 'imagemagick', 'imagemagick_file', 'html']\n"
     ]
    }
   ],
   "source": [
    "print(animation.writers.list())"
   ]
  },
  {
   "cell_type": "markdown",
   "metadata": {},
   "source": [
    "The animation writer needs `ffmpeg` to run mp4.\n",
    "\n",
    "To install it, you have to install it with conda or brew, but you can't run it.\n",
    "\n",
    "Then you need to create an animation with the above writer.\n",
    "\n",
    "After trying that, I found that `gif`s can be created with `pillow`, `imagemagick`."
   ]
  },
  {
   "cell_type": "code",
   "execution_count": 3,
   "metadata": {
    "_cell_guid": "79c7e3d0-c299-4dcb-8224-4455121ee9b0",
    "_uuid": "d629ff2d2480ee46fbb7e2d37f6b5fab8052498a"
   },
   "outputs": [
    {
     "data": {
      "image/png": "[encoded data removed]",
      "text/plain": [
       "<Figure size 432x288 with 1 Axes>"
      ]
     },
     "metadata": {
      "needs_background": "light"
     },
     "output_type": "display_data"
    }
   ],
   "source": [
    "TWOPI = 2*np.pi\n",
    "\n",
    "fig, ax = plt.subplots(1, 1)\n",
    "\n",
    "t = np.arange(0.0, TWOPI, 0.001)\n",
    "s = np.sin(t)\n",
    "l = plt.plot(t, s)\n",
    "\n",
    "ax = plt.axis([0,TWOPI,-1,1])\n",
    "\n",
    "redDot, = plt.plot([0], [np.sin(0)], 'ro')\n",
    "\n",
    "def animate(i):\n",
    "    redDot.set_data(i, np.sin(i))\n",
    "    return redDot,\n",
    "\n",
    "myAnimation = animation.FuncAnimation(fig, animate, \n",
    "                                      frames=np.arange(0.0, TWOPI, 0.1), \n",
    "                                      interval=10, blit=True, \n",
    "                                      repeat=False)\n",
    "\n",
    "plt.show()"
   ]
  },
  {
   "cell_type": "markdown",
   "metadata": {},
   "source": [
    "We wanted **the video**, but the `gif` doesn't look right in the notebook environment.\n",
    "\n",
    "For that reason, I decided that it would be better to save and call first."
   ]
  },
  {
   "cell_type": "code",
   "execution_count": 4,
   "metadata": {},
   "outputs": [
    {
     "name": "stdout",
     "output_type": "stream",
     "text": [
      "CPU times: user 6.42 s, sys: 7.04 s, total: 13.5 s\n",
      "Wall time: 12.2 s\n",
      "CPU times: user 7.32 s, sys: 7.22 s, total: 14.5 s\n",
      "Wall time: 5.29 s\n"
     ]
    }
   ],
   "source": [
    "%time myAnimation.save('myAnimation1.gif', writer='imagemagick', fps=30)\n",
    "\n",
    "%time myAnimation.save('myAnimation2.gif', writer='pillow', fps=30)"
   ]
  },
  {
   "cell_type": "markdown",
   "metadata": {},
   "source": [
    "Now you can call each one the way you prefer.\n",
    "\n",
    "Importing from HTML into python code or hyperlinking from markdown cells."
   ]
  },
  {
   "cell_type": "markdown",
   "metadata": {},
   "source": [
    "\n",
    "**writer as imagemagick**\n",
    "\n",
    "> markdwon : `![](./myAnimation1.gif)`\n",
    "\n",
    "![](./myAnimation1.gif)\n",
    "\n",
    "**writer as pillow**\n",
    "\n",
    "`pillow` seems to have failed.\n",
    "\n",
    "> markdwon : `![](./myAnimation2.gif)`\n",
    "\n",
    "![](./myAnimation2.gif)\n",
    "\n"
   ]
  },
  {
   "cell_type": "markdown",
   "metadata": {},
   "source": [
    "**Python code**"
   ]
  },
  {
   "cell_type": "code",
   "execution_count": 5,
   "metadata": {},
   "outputs": [
    {
     "data": {
      "text/html": [
       "<img src=\"./myAnimation1.gif\" />"
      ],
      "text/plain": [
       "<IPython.core.display.HTML object>"
      ]
     },
     "execution_count": 5,
     "metadata": {},
     "output_type": "execute_result"
    }
   ],
   "source": [
    "HTML('<img src=\"./myAnimation1.gif\" />')"
   ]
  },
  {
   "cell_type": "markdown",
   "metadata": {},
   "source": [
    "If you don't want to draw the ambiguous plot above, you can do it with `plt.close (fig)` instead of `plt.show()`.\n",
    "\n",
    "In the next article, I will prepare a more detailed tutorial. \n",
    "\n",
    "**Thank you.**"
   ]
  },
  {
   "cell_type": "markdown",
   "metadata": {},
   "source": [
    "## Reference\n",
    "\n",
    "- [Basic animation with FuncAnimation](https://riptutorial.com/matplotlib/example/23558/basic-animation-with-funcanimation)\n",
    "\n",
    "### Useful Link\n",
    "\n",
    "- [Matplotlib Animation Tutorial](https://jakevdp.github.io/blog/2012/08/18/matplotlib-animation-tutorial/)\n",
    "\n",
    "- [Animations with Matplotlib\n",
    "](https://towardsdatascience.com/animations-with-matplotlib-d96375c5442c)"
   ]
  },
  {
   "cell_type": "code",
   "execution_count": null,
   "metadata": {},
   "outputs": [],
   "source": []
  }
 ],
 "metadata": {
  "kernelspec": {
   "display_name": "Python 3",
   "language": "python",
   "name": "python3"
  },
  "language_info": {
   "codemirror_mode": {
    "name": "ipython",
    "version": 3
   },
   "file_extension": ".py",
   "mimetype": "text/x-python",
   "name": "python",
   "nbconvert_exporter": "python",
   "pygments_lexer": "ipython3",
   "version": "3.6.6"
  }
 },
 "nbformat": 4,
 "nbformat_minor": 1
}
